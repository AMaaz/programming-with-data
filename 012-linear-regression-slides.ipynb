{
 "cells": [
  {
   "cell_type": "markdown",
   "metadata": {
    "slideshow": {
     "slide_type": "slide"
    }
   },
   "source": [
    "# Linear Regression Using `statsmodels`"
   ]
  },
  {
   "cell_type": "markdown",
   "metadata": {
    "slideshow": {
     "slide_type": "slide"
    }
   },
   "source": [
    "Manually creating the model matrix with numpy\n"
   ]
  },
  {
   "cell_type": "code",
   "execution_count": 1,
   "metadata": {
    "collapsed": true,
    "slideshow": {
     "slide_type": "fragment"
    }
   },
   "outputs": [],
   "source": [
    "import numpy as np\n",
    "\n",
    "def lm(X, y, intercept=True):\n",
    "    if intercept:\n",
    "        model_mat = np.column_stack((np.ones(X.shape[0], 1), X))\n",
    "    else:\n",
    "        model_mat = X\n",
    "    return np.linalg.lstsq(model_mat, y)\n"
   ]
  },
  {
   "cell_type": "markdown",
   "metadata": {
    "slideshow": {
     "slide_type": "slide"
    }
   },
   "source": [
    "## Not too bad. What if we need dummies?"
   ]
  },
  {
   "cell_type": "markdown",
   "metadata": {
    "slideshow": {
     "slide_type": "fragment"
    }
   },
   "source": [
    "Can still do with `pd.get_dummies`"
   ]
  },
  {
   "cell_type": "code",
   "execution_count": 2,
   "metadata": {
    "collapsed": false,
    "slideshow": {
     "slide_type": "fragment"
    }
   },
   "outputs": [
    {
     "data": {
      "text/html": [
       "<div>\n",
       "<table border=\"1\" class=\"dataframe\">\n",
       "  <thead>\n",
       "    <tr style=\"text-align: right;\">\n",
       "      <th></th>\n",
       "      <th>HiTec</th>\n",
       "      <th>Hlth</th>\n",
       "      <th>Utils</th>\n",
       "    </tr>\n",
       "  </thead>\n",
       "  <tbody>\n",
       "    <tr>\n",
       "      <th>0</th>\n",
       "      <td>1.0</td>\n",
       "      <td>0.0</td>\n",
       "      <td>0.0</td>\n",
       "    </tr>\n",
       "    <tr>\n",
       "      <th>1</th>\n",
       "      <td>0.0</td>\n",
       "      <td>1.0</td>\n",
       "      <td>0.0</td>\n",
       "    </tr>\n",
       "    <tr>\n",
       "      <th>2</th>\n",
       "      <td>1.0</td>\n",
       "      <td>0.0</td>\n",
       "      <td>0.0</td>\n",
       "    </tr>\n",
       "    <tr>\n",
       "      <th>3</th>\n",
       "      <td>0.0</td>\n",
       "      <td>0.0</td>\n",
       "      <td>1.0</td>\n",
       "    </tr>\n",
       "  </tbody>\n",
       "</table>\n",
       "</div>"
      ],
      "text/plain": [
       "   HiTec  Hlth  Utils\n",
       "0    1.0   0.0    0.0\n",
       "1    0.0   1.0    0.0\n",
       "2    1.0   0.0    0.0\n",
       "3    0.0   0.0    1.0"
      ]
     },
     "execution_count": 2,
     "metadata": {},
     "output_type": "execute_result"
    }
   ],
   "source": [
    "import pandas as pd\n",
    "sectors = pd.Series(['HiTec', 'Hlth', 'HiTec', 'Utils'])\n",
    "pd.get_dummies(sectors)"
   ]
  },
  {
   "cell_type": "markdown",
   "metadata": {
    "slideshow": {
     "slide_type": "fragment"
    }
   },
   "source": [
    "Seems straightforward, though could get complicated with interaction terms, different contrast setups."
   ]
  },
  {
   "cell_type": "markdown",
   "metadata": {
    "slideshow": {
     "slide_type": "slide"
    }
   },
   "source": [
    "# How about regression results\n",
    "\n",
    "R-squared, coefficient estimates, SEs, confidence intervals"
   ]
  },
  {
   "cell_type": "markdown",
   "metadata": {
    "slideshow": {
     "slide_type": "fragment"
    }
   },
   "source": [
    "Time to start writing code!"
   ]
  },
  {
   "cell_type": "markdown",
   "metadata": {
    "slideshow": {
     "slide_type": "slide"
    }
   },
   "source": [
    "# `statsmodels` makes it easy"
   ]
  },
  {
   "cell_type": "code",
   "execution_count": 3,
   "metadata": {
    "collapsed": false,
    "slideshow": {
     "slide_type": "fragment"
    }
   },
   "outputs": [
    {
     "data": {
      "text/html": [
       "<table class=\"simpletable\">\n",
       "<caption>OLS Regression Results</caption>\n",
       "<tr>\n",
       "  <th>Dep. Variable:</th>        <td>ret_0_1_m</td>    <th>  R-squared:         </th> <td>   0.014</td>\n",
       "</tr>\n",
       "<tr>\n",
       "  <th>Model:</th>                   <td>OLS</td>       <th>  Adj. R-squared:    </th> <td>   0.009</td>\n",
       "</tr>\n",
       "<tr>\n",
       "  <th>Method:</th>             <td>Least Squares</td>  <th>  F-statistic:       </th> <td>   2.760</td>\n",
       "</tr>\n",
       "<tr>\n",
       "  <th>Date:</th>             <td>Tue, 17 May 2016</td> <th>  Prob (F-statistic):</th>  <td>0.00220</td>\n",
       "</tr>\n",
       "<tr>\n",
       "  <th>Time:</th>                 <td>19:46:51</td>     <th>  Log-Likelihood:    </th> <td>  1954.6</td>\n",
       "</tr>\n",
       "<tr>\n",
       "  <th>No. Observations:</th>      <td>  1974</td>      <th>  AIC:               </th> <td>  -3887.</td>\n",
       "</tr>\n",
       "<tr>\n",
       "  <th>Df Residuals:</th>          <td>  1963</td>      <th>  BIC:               </th> <td>  -3826.</td>\n",
       "</tr>\n",
       "<tr>\n",
       "  <th>Df Model:</th>              <td>    10</td>      <th>                     </th>     <td> </td>   \n",
       "</tr>\n",
       "<tr>\n",
       "  <th>Covariance Type:</th>      <td>nonrobust</td>    <th>                     </th>     <td> </td>   \n",
       "</tr>\n",
       "</table>\n",
       "<table class=\"simpletable\">\n",
       "<tr>\n",
       "         <td></td>            <th>coef</th>     <th>std err</th>      <th>t</th>      <th>P>|t|</th> <th>[95.0% Conf. Int.]</th> \n",
       "</tr>\n",
       "<tr>\n",
       "  <th>Intercept</th>       <td>    0.0285</td> <td>    0.011</td> <td>    2.683</td> <td> 0.007</td> <td>    0.008     0.049</td>\n",
       "</tr>\n",
       "<tr>\n",
       "  <th>sector[T.Enrgy]</th> <td>    0.0212</td> <td>    0.015</td> <td>    1.420</td> <td> 0.156</td> <td>   -0.008     0.050</td>\n",
       "</tr>\n",
       "<tr>\n",
       "  <th>sector[T.HiTec]</th> <td>    0.0217</td> <td>    0.012</td> <td>    1.785</td> <td> 0.074</td> <td>   -0.002     0.046</td>\n",
       "</tr>\n",
       "<tr>\n",
       "  <th>sector[T.Hlth]</th>  <td>   -0.0094</td> <td>    0.014</td> <td>   -0.696</td> <td> 0.486</td> <td>   -0.036     0.017</td>\n",
       "</tr>\n",
       "<tr>\n",
       "  <th>sector[T.Manuf]</th> <td>    0.0166</td> <td>    0.012</td> <td>    1.408</td> <td> 0.159</td> <td>   -0.007     0.040</td>\n",
       "</tr>\n",
       "<tr>\n",
       "  <th>sector[T.Money]</th> <td>    0.0056</td> <td>    0.011</td> <td>    0.491</td> <td> 0.623</td> <td>   -0.017     0.028</td>\n",
       "</tr>\n",
       "<tr>\n",
       "  <th>sector[T.NoDur]</th> <td>   -0.0061</td> <td>    0.013</td> <td>   -0.462</td> <td> 0.644</td> <td>   -0.032     0.020</td>\n",
       "</tr>\n",
       "<tr>\n",
       "  <th>sector[T.Other]</th> <td>    0.0086</td> <td>    0.012</td> <td>    0.700</td> <td> 0.484</td> <td>   -0.016     0.033</td>\n",
       "</tr>\n",
       "<tr>\n",
       "  <th>sector[T.Shops]</th> <td>   -0.0079</td> <td>    0.013</td> <td>   -0.632</td> <td> 0.528</td> <td>   -0.033     0.017</td>\n",
       "</tr>\n",
       "<tr>\n",
       "  <th>sector[T.Telcm]</th> <td>    0.0087</td> <td>    0.015</td> <td>    0.568</td> <td> 0.570</td> <td>   -0.021     0.039</td>\n",
       "</tr>\n",
       "<tr>\n",
       "  <th>sector[T.Utils]</th> <td>   -0.0094</td> <td>    0.013</td> <td>   -0.700</td> <td> 0.484</td> <td>   -0.036     0.017</td>\n",
       "</tr>\n",
       "</table>\n",
       "<table class=\"simpletable\">\n",
       "<tr>\n",
       "  <th>Omnibus:</th>       <td>153.726</td> <th>  Durbin-Watson:     </th> <td>   1.957</td> \n",
       "</tr>\n",
       "<tr>\n",
       "  <th>Prob(Omnibus):</th> <td> 0.000</td>  <th>  Jarque-Bera (JB):  </th> <td> 784.476</td> \n",
       "</tr>\n",
       "<tr>\n",
       "  <th>Skew:</th>          <td> 0.136</td>  <th>  Prob(JB):          </th> <td>4.50e-171</td>\n",
       "</tr>\n",
       "<tr>\n",
       "  <th>Kurtosis:</th>      <td> 6.076</td>  <th>  Cond. No.          </th> <td>    18.9</td> \n",
       "</tr>\n",
       "</table>"
      ],
      "text/plain": [
       "<class 'statsmodels.iolib.summary.Summary'>\n",
       "\"\"\"\n",
       "                            OLS Regression Results                            \n",
       "==============================================================================\n",
       "Dep. Variable:              ret_0_1_m   R-squared:                       0.014\n",
       "Model:                            OLS   Adj. R-squared:                  0.009\n",
       "Method:                 Least Squares   F-statistic:                     2.760\n",
       "Date:                Tue, 17 May 2016   Prob (F-statistic):            0.00220\n",
       "Time:                        19:46:51   Log-Likelihood:                 1954.6\n",
       "No. Observations:                1974   AIC:                            -3887.\n",
       "Df Residuals:                    1963   BIC:                            -3826.\n",
       "Df Model:                          10                                         \n",
       "Covariance Type:            nonrobust                                         \n",
       "===================================================================================\n",
       "                      coef    std err          t      P>|t|      [95.0% Conf. Int.]\n",
       "-----------------------------------------------------------------------------------\n",
       "Intercept           0.0285      0.011      2.683      0.007         0.008     0.049\n",
       "sector[T.Enrgy]     0.0212      0.015      1.420      0.156        -0.008     0.050\n",
       "sector[T.HiTec]     0.0217      0.012      1.785      0.074        -0.002     0.046\n",
       "sector[T.Hlth]     -0.0094      0.014     -0.696      0.486        -0.036     0.017\n",
       "sector[T.Manuf]     0.0166      0.012      1.408      0.159        -0.007     0.040\n",
       "sector[T.Money]     0.0056      0.011      0.491      0.623        -0.017     0.028\n",
       "sector[T.NoDur]    -0.0061      0.013     -0.462      0.644        -0.032     0.020\n",
       "sector[T.Other]     0.0086      0.012      0.700      0.484        -0.016     0.033\n",
       "sector[T.Shops]    -0.0079      0.013     -0.632      0.528        -0.033     0.017\n",
       "sector[T.Telcm]     0.0087      0.015      0.568      0.570        -0.021     0.039\n",
       "sector[T.Utils]    -0.0094      0.013     -0.700      0.484        -0.036     0.017\n",
       "==============================================================================\n",
       "Omnibus:                      153.726   Durbin-Watson:                   1.957\n",
       "Prob(Omnibus):                  0.000   Jarque-Bera (JB):              784.476\n",
       "Skew:                           0.136   Prob(JB):                    4.50e-171\n",
       "Kurtosis:                       6.076   Cond. No.                         18.9\n",
       "==============================================================================\n",
       "\n",
       "Warnings:\n",
       "[1] Standard Errors assume that the covariance matrix of the errors is correctly specified.\n",
       "\"\"\""
      ]
     },
     "execution_count": 3,
     "metadata": {},
     "output_type": "execute_result"
    }
   ],
   "source": [
    "import statsmodels.formula.api as smf\n",
    "\n",
    "dat = pd.read_csv('starmine_small.csv', low_memory=False)\n",
    "m1 = smf.ols('ret_0_1_m ~ sector', data=dat).fit()\n",
    "m1.summary()"
   ]
  },
  {
   "cell_type": "markdown",
   "metadata": {
    "slideshow": {
     "slide_type": "slide"
    }
   },
   "source": [
    "# How about interaction terms?"
   ]
  },
  {
   "cell_type": "code",
   "execution_count": 4,
   "metadata": {
    "collapsed": false,
    "slideshow": {
     "slide_type": "fragment"
    }
   },
   "outputs": [
    {
     "data": {
      "text/html": [
       "<table class=\"simpletable\">\n",
       "<caption>OLS Regression Results</caption>\n",
       "<tr>\n",
       "  <th>Dep. Variable:</th>        <td>ret_0_1_m</td>    <th>  R-squared:         </th> <td>   0.031</td>\n",
       "</tr>\n",
       "<tr>\n",
       "  <th>Model:</th>                   <td>OLS</td>       <th>  Adj. R-squared:    </th> <td>   0.016</td>\n",
       "</tr>\n",
       "<tr>\n",
       "  <th>Method:</th>             <td>Least Squares</td>  <th>  F-statistic:       </th> <td>   2.059</td>\n",
       "</tr>\n",
       "<tr>\n",
       "  <th>Date:</th>             <td>Tue, 17 May 2016</td> <th>  Prob (F-statistic):</th>  <td>0.00326</td>\n",
       "</tr>\n",
       "<tr>\n",
       "  <th>Time:</th>                 <td>19:46:51</td>     <th>  Log-Likelihood:    </th> <td>  1368.4</td>\n",
       "</tr>\n",
       "<tr>\n",
       "  <th>No. Observations:</th>      <td>  1384</td>      <th>  AIC:               </th> <td>  -2693.</td>\n",
       "</tr>\n",
       "<tr>\n",
       "  <th>Df Residuals:</th>          <td>  1362</td>      <th>  BIC:               </th> <td>  -2578.</td>\n",
       "</tr>\n",
       "<tr>\n",
       "  <th>Df Model:</th>              <td>    21</td>      <th>                     </th>     <td> </td>   \n",
       "</tr>\n",
       "<tr>\n",
       "  <th>Covariance Type:</th>      <td>nonrobust</td>    <th>                     </th>     <td> </td>   \n",
       "</tr>\n",
       "</table>\n",
       "<table class=\"simpletable\">\n",
       "<tr>\n",
       "           <td></td>              <th>coef</th>     <th>std err</th>      <th>t</th>      <th>P>|t|</th> <th>[95.0% Conf. Int.]</th> \n",
       "</tr>\n",
       "<tr>\n",
       "  <th>Intercept</th>           <td>    0.0195</td> <td>    0.024</td> <td>    0.801</td> <td> 0.423</td> <td>   -0.028     0.067</td>\n",
       "</tr>\n",
       "<tr>\n",
       "  <th>sector[T.Enrgy]</th>     <td>    0.0589</td> <td>    0.032</td> <td>    1.812</td> <td> 0.070</td> <td>   -0.005     0.123</td>\n",
       "</tr>\n",
       "<tr>\n",
       "  <th>sector[T.HiTec]</th>     <td>    0.0050</td> <td>    0.029</td> <td>    0.174</td> <td> 0.862</td> <td>   -0.052     0.062</td>\n",
       "</tr>\n",
       "<tr>\n",
       "  <th>sector[T.Hlth]</th>      <td>   -0.0059</td> <td>    0.035</td> <td>   -0.171</td> <td> 0.864</td> <td>   -0.074     0.062</td>\n",
       "</tr>\n",
       "<tr>\n",
       "  <th>sector[T.Manuf]</th>     <td>    0.0052</td> <td>    0.028</td> <td>    0.188</td> <td> 0.851</td> <td>   -0.049     0.059</td>\n",
       "</tr>\n",
       "<tr>\n",
       "  <th>sector[T.Money]</th>     <td>    0.0195</td> <td>    0.026</td> <td>    0.741</td> <td> 0.459</td> <td>   -0.032     0.071</td>\n",
       "</tr>\n",
       "<tr>\n",
       "  <th>sector[T.NoDur]</th>     <td>   -0.0007</td> <td>    0.031</td> <td>   -0.022</td> <td> 0.982</td> <td>   -0.062     0.061</td>\n",
       "</tr>\n",
       "<tr>\n",
       "  <th>sector[T.Other]</th>     <td>    0.0238</td> <td>    0.028</td> <td>    0.842</td> <td> 0.400</td> <td>   -0.032     0.079</td>\n",
       "</tr>\n",
       "<tr>\n",
       "  <th>sector[T.Shops]</th>     <td>   -0.0091</td> <td>    0.029</td> <td>   -0.318</td> <td> 0.750</td> <td>   -0.066     0.047</td>\n",
       "</tr>\n",
       "<tr>\n",
       "  <th>sector[T.Telcm]</th>     <td>    0.0516</td> <td>    0.039</td> <td>    1.334</td> <td> 0.182</td> <td>   -0.024     0.128</td>\n",
       "</tr>\n",
       "<tr>\n",
       "  <th>sector[T.Utils]</th>     <td>   -0.0040</td> <td>    0.034</td> <td>   -0.119</td> <td> 0.905</td> <td>   -0.071     0.062</td>\n",
       "</tr>\n",
       "<tr>\n",
       "  <th>smi</th>                 <td> 1.902e-05</td> <td>    0.000</td> <td>    0.046</td> <td> 0.963</td> <td>   -0.001     0.001</td>\n",
       "</tr>\n",
       "<tr>\n",
       "  <th>smi:sector[T.Enrgy]</th> <td>   -0.0010</td> <td>    0.001</td> <td>   -1.340</td> <td> 0.181</td> <td>   -0.002     0.000</td>\n",
       "</tr>\n",
       "<tr>\n",
       "  <th>smi:sector[T.HiTec]</th> <td>    0.0005</td> <td>    0.000</td> <td>    1.137</td> <td> 0.256</td> <td>   -0.000     0.001</td>\n",
       "</tr>\n",
       "<tr>\n",
       "  <th>smi:sector[T.Hlth]</th>  <td>    0.0002</td> <td>    0.001</td> <td>    0.384</td> <td> 0.701</td> <td>   -0.001     0.001</td>\n",
       "</tr>\n",
       "<tr>\n",
       "  <th>smi:sector[T.Manuf]</th> <td>    0.0004</td> <td>    0.000</td> <td>    0.795</td> <td> 0.427</td> <td>   -0.001     0.001</td>\n",
       "</tr>\n",
       "<tr>\n",
       "  <th>smi:sector[T.Money]</th> <td> 5.644e-05</td> <td>    0.000</td> <td>    0.124</td> <td> 0.902</td> <td>   -0.001     0.001</td>\n",
       "</tr>\n",
       "<tr>\n",
       "  <th>smi:sector[T.NoDur]</th> <td>    0.0002</td> <td>    0.001</td> <td>    0.299</td> <td> 0.765</td> <td>   -0.001     0.001</td>\n",
       "</tr>\n",
       "<tr>\n",
       "  <th>smi:sector[T.Other]</th> <td>    0.0001</td> <td>    0.000</td> <td>    0.225</td> <td> 0.822</td> <td>   -0.001     0.001</td>\n",
       "</tr>\n",
       "<tr>\n",
       "  <th>smi:sector[T.Shops]</th> <td>    0.0002</td> <td>    0.000</td> <td>    0.314</td> <td> 0.754</td> <td>   -0.001     0.001</td>\n",
       "</tr>\n",
       "<tr>\n",
       "  <th>smi:sector[T.Telcm]</th> <td>   -0.0006</td> <td>    0.001</td> <td>   -0.879</td> <td> 0.379</td> <td>   -0.002     0.001</td>\n",
       "</tr>\n",
       "<tr>\n",
       "  <th>smi:sector[T.Utils]</th> <td>  4.91e-05</td> <td>    0.001</td> <td>    0.079</td> <td> 0.937</td> <td>   -0.001     0.001</td>\n",
       "</tr>\n",
       "</table>\n",
       "<table class=\"simpletable\">\n",
       "<tr>\n",
       "  <th>Omnibus:</th>       <td>108.687</td> <th>  Durbin-Watson:     </th> <td>   2.036</td> \n",
       "</tr>\n",
       "<tr>\n",
       "  <th>Prob(Omnibus):</th> <td> 0.000</td>  <th>  Jarque-Bera (JB):  </th> <td> 566.538</td> \n",
       "</tr>\n",
       "<tr>\n",
       "  <th>Skew:</th>          <td> 0.090</td>  <th>  Prob(JB):          </th> <td>9.50e-124</td>\n",
       "</tr>\n",
       "<tr>\n",
       "  <th>Kurtosis:</th>      <td> 6.129</td>  <th>  Cond. No.          </th> <td>2.14e+03</td> \n",
       "</tr>\n",
       "</table>"
      ],
      "text/plain": [
       "<class 'statsmodels.iolib.summary.Summary'>\n",
       "\"\"\"\n",
       "                            OLS Regression Results                            \n",
       "==============================================================================\n",
       "Dep. Variable:              ret_0_1_m   R-squared:                       0.031\n",
       "Model:                            OLS   Adj. R-squared:                  0.016\n",
       "Method:                 Least Squares   F-statistic:                     2.059\n",
       "Date:                Tue, 17 May 2016   Prob (F-statistic):            0.00326\n",
       "Time:                        19:46:51   Log-Likelihood:                 1368.4\n",
       "No. Observations:                1384   AIC:                            -2693.\n",
       "Df Residuals:                    1362   BIC:                            -2578.\n",
       "Df Model:                          21                                         \n",
       "Covariance Type:            nonrobust                                         \n",
       "=======================================================================================\n",
       "                          coef    std err          t      P>|t|      [95.0% Conf. Int.]\n",
       "---------------------------------------------------------------------------------------\n",
       "Intercept               0.0195      0.024      0.801      0.423        -0.028     0.067\n",
       "sector[T.Enrgy]         0.0589      0.032      1.812      0.070        -0.005     0.123\n",
       "sector[T.HiTec]         0.0050      0.029      0.174      0.862        -0.052     0.062\n",
       "sector[T.Hlth]         -0.0059      0.035     -0.171      0.864        -0.074     0.062\n",
       "sector[T.Manuf]         0.0052      0.028      0.188      0.851        -0.049     0.059\n",
       "sector[T.Money]         0.0195      0.026      0.741      0.459        -0.032     0.071\n",
       "sector[T.NoDur]        -0.0007      0.031     -0.022      0.982        -0.062     0.061\n",
       "sector[T.Other]         0.0238      0.028      0.842      0.400        -0.032     0.079\n",
       "sector[T.Shops]        -0.0091      0.029     -0.318      0.750        -0.066     0.047\n",
       "sector[T.Telcm]         0.0516      0.039      1.334      0.182        -0.024     0.128\n",
       "sector[T.Utils]        -0.0040      0.034     -0.119      0.905        -0.071     0.062\n",
       "smi                  1.902e-05      0.000      0.046      0.963        -0.001     0.001\n",
       "smi:sector[T.Enrgy]    -0.0010      0.001     -1.340      0.181        -0.002     0.000\n",
       "smi:sector[T.HiTec]     0.0005      0.000      1.137      0.256        -0.000     0.001\n",
       "smi:sector[T.Hlth]      0.0002      0.001      0.384      0.701        -0.001     0.001\n",
       "smi:sector[T.Manuf]     0.0004      0.000      0.795      0.427        -0.001     0.001\n",
       "smi:sector[T.Money]  5.644e-05      0.000      0.124      0.902        -0.001     0.001\n",
       "smi:sector[T.NoDur]     0.0002      0.001      0.299      0.765        -0.001     0.001\n",
       "smi:sector[T.Other]     0.0001      0.000      0.225      0.822        -0.001     0.001\n",
       "smi:sector[T.Shops]     0.0002      0.000      0.314      0.754        -0.001     0.001\n",
       "smi:sector[T.Telcm]    -0.0006      0.001     -0.879      0.379        -0.002     0.001\n",
       "smi:sector[T.Utils]   4.91e-05      0.001      0.079      0.937        -0.001     0.001\n",
       "==============================================================================\n",
       "Omnibus:                      108.687   Durbin-Watson:                   2.036\n",
       "Prob(Omnibus):                  0.000   Jarque-Bera (JB):              566.538\n",
       "Skew:                           0.090   Prob(JB):                    9.50e-124\n",
       "Kurtosis:                       6.129   Cond. No.                     2.14e+03\n",
       "==============================================================================\n",
       "\n",
       "Warnings:\n",
       "[1] Standard Errors assume that the covariance matrix of the errors is correctly specified.\n",
       "[2] The condition number is large, 2.14e+03. This might indicate that there are\n",
       "strong multicollinearity or other numerical problems.\n",
       "\"\"\""
      ]
     },
     "execution_count": 4,
     "metadata": {},
     "output_type": "execute_result"
    }
   ],
   "source": [
    "m2 = smf.ols('ret_0_1_m ~ smi * sector', data=dat).fit()\n",
    "m2.summary()"
   ]
  },
  {
   "cell_type": "markdown",
   "metadata": {
    "slideshow": {
     "slide_type": "slide"
    }
   },
   "source": [
    "## Easy to switch out for different estimators"
   ]
  },
  {
   "cell_type": "markdown",
   "metadata": {
    "collapsed": false,
    "slideshow": {
     "slide_type": "fragment"
    }
   },
   "source": [
    "Try an M-estimator"
   ]
  },
  {
   "cell_type": "code",
   "execution_count": 5,
   "metadata": {
    "collapsed": false,
    "slideshow": {
     "slide_type": "fragment"
    }
   },
   "outputs": [
    {
     "data": {
      "text/html": [
       "<table class=\"simpletable\">\n",
       "<caption>Robust linear Model Regression Results</caption>\n",
       "<tr>\n",
       "  <th>Dep. Variable:</th>      <td>ret_0_1_m</td>    <th>  No. Observations:  </th> <td>  1974</td>\n",
       "</tr>\n",
       "<tr>\n",
       "  <th>Model:</th>                 <td>RLM</td>       <th>  Df Residuals:      </th> <td>  1963</td>\n",
       "</tr>\n",
       "<tr>\n",
       "  <th>Method:</th>               <td>IRLS</td>       <th>  Df Model:          </th> <td>    10</td>\n",
       "</tr>\n",
       "<tr>\n",
       "  <th>Norm:</th>                <td>HuberT</td>      <th>                     </th>    <td> </td>  \n",
       "</tr>\n",
       "<tr>\n",
       "  <th>Scale Est.:</th>            <td>mad</td>       <th>                     </th>    <td> </td>  \n",
       "</tr>\n",
       "<tr>\n",
       "  <th>Cov Type:</th>              <td>H1</td>        <th>                     </th>    <td> </td>  \n",
       "</tr>\n",
       "<tr>\n",
       "  <th>Date:</th>           <td>Tue, 17 May 2016</td> <th>                     </th>    <td> </td>  \n",
       "</tr>\n",
       "<tr>\n",
       "  <th>Time:</th>               <td>19:46:51</td>     <th>                     </th>    <td> </td>  \n",
       "</tr>\n",
       "<tr>\n",
       "  <th>No. Iterations:</th>        <td>19</td>        <th>                     </th>    <td> </td>  \n",
       "</tr>\n",
       "</table>\n",
       "<table class=\"simpletable\">\n",
       "<tr>\n",
       "         <td></td>            <th>coef</th>     <th>std err</th>      <th>z</th>      <th>P>|z|</th> <th>[95.0% Conf. Int.]</th> \n",
       "</tr>\n",
       "<tr>\n",
       "  <th>Intercept</th>       <td>    0.0309</td> <td>    0.009</td> <td>    3.400</td> <td> 0.001</td> <td>    0.013     0.049</td>\n",
       "</tr>\n",
       "<tr>\n",
       "  <th>sector[T.Enrgy]</th> <td>    0.0127</td> <td>    0.013</td> <td>    0.990</td> <td> 0.322</td> <td>   -0.012     0.038</td>\n",
       "</tr>\n",
       "<tr>\n",
       "  <th>sector[T.HiTec]</th> <td>    0.0181</td> <td>    0.010</td> <td>    1.736</td> <td> 0.083</td> <td>   -0.002     0.039</td>\n",
       "</tr>\n",
       "<tr>\n",
       "  <th>sector[T.Hlth]</th>  <td>   -0.0061</td> <td>    0.012</td> <td>   -0.525</td> <td> 0.599</td> <td>   -0.029     0.017</td>\n",
       "</tr>\n",
       "<tr>\n",
       "  <th>sector[T.Manuf]</th> <td>    0.0108</td> <td>    0.010</td> <td>    1.070</td> <td> 0.285</td> <td>   -0.009     0.031</td>\n",
       "</tr>\n",
       "<tr>\n",
       "  <th>sector[T.Money]</th> <td>    0.0041</td> <td>    0.010</td> <td>    0.417</td> <td> 0.676</td> <td>   -0.015     0.023</td>\n",
       "</tr>\n",
       "<tr>\n",
       "  <th>sector[T.NoDur]</th> <td>   -0.0060</td> <td>    0.011</td> <td>   -0.527</td> <td> 0.598</td> <td>   -0.028     0.016</td>\n",
       "</tr>\n",
       "<tr>\n",
       "  <th>sector[T.Other]</th> <td>    0.0103</td> <td>    0.011</td> <td>    0.974</td> <td> 0.330</td> <td>   -0.010     0.031</td>\n",
       "</tr>\n",
       "<tr>\n",
       "  <th>sector[T.Shops]</th> <td>   -0.0106</td> <td>    0.011</td> <td>   -0.982</td> <td> 0.326</td> <td>   -0.032     0.011</td>\n",
       "</tr>\n",
       "<tr>\n",
       "  <th>sector[T.Telcm]</th> <td>    0.0060</td> <td>    0.013</td> <td>    0.453</td> <td> 0.651</td> <td>   -0.020     0.032</td>\n",
       "</tr>\n",
       "<tr>\n",
       "  <th>sector[T.Utils]</th> <td>   -0.0123</td> <td>    0.011</td> <td>   -1.075</td> <td> 0.282</td> <td>   -0.035     0.010</td>\n",
       "</tr>\n",
       "</table>"
      ],
      "text/plain": [
       "<class 'statsmodels.iolib.summary.Summary'>\n",
       "\"\"\"\n",
       "                    Robust linear Model Regression Results                    \n",
       "==============================================================================\n",
       "Dep. Variable:              ret_0_1_m   No. Observations:                 1974\n",
       "Model:                            RLM   Df Residuals:                     1963\n",
       "Method:                          IRLS   Df Model:                           10\n",
       "Norm:                          HuberT                                         \n",
       "Scale Est.:                       mad                                         \n",
       "Cov Type:                          H1                                         \n",
       "Date:                Tue, 17 May 2016                                         \n",
       "Time:                        19:46:51                                         \n",
       "No. Iterations:                    19                                         \n",
       "===================================================================================\n",
       "                      coef    std err          z      P>|z|      [95.0% Conf. Int.]\n",
       "-----------------------------------------------------------------------------------\n",
       "Intercept           0.0309      0.009      3.400      0.001         0.013     0.049\n",
       "sector[T.Enrgy]     0.0127      0.013      0.990      0.322        -0.012     0.038\n",
       "sector[T.HiTec]     0.0181      0.010      1.736      0.083        -0.002     0.039\n",
       "sector[T.Hlth]     -0.0061      0.012     -0.525      0.599        -0.029     0.017\n",
       "sector[T.Manuf]     0.0108      0.010      1.070      0.285        -0.009     0.031\n",
       "sector[T.Money]     0.0041      0.010      0.417      0.676        -0.015     0.023\n",
       "sector[T.NoDur]    -0.0060      0.011     -0.527      0.598        -0.028     0.016\n",
       "sector[T.Other]     0.0103      0.011      0.974      0.330        -0.010     0.031\n",
       "sector[T.Shops]    -0.0106      0.011     -0.982      0.326        -0.032     0.011\n",
       "sector[T.Telcm]     0.0060      0.013      0.453      0.651        -0.020     0.032\n",
       "sector[T.Utils]    -0.0123      0.011     -1.075      0.282        -0.035     0.010\n",
       "===================================================================================\n",
       "\n",
       "If the model instance has been used for another fit with different fit\n",
       "parameters, then the fit options might not be the correct ones anymore .\n",
       "\"\"\""
      ]
     },
     "execution_count": 5,
     "metadata": {},
     "output_type": "execute_result"
    }
   ],
   "source": [
    "m3 = smf.rlm('ret_0_1_m ~ sector', data=dat).fit()\n",
    "m3.summary()"
   ]
  },
  {
   "cell_type": "markdown",
   "metadata": {
    "slideshow": {
     "slide_type": "slide"
    }
   },
   "source": [
    "# Questions?"
   ]
  }
 ],
 "metadata": {
  "celltoolbar": "Slideshow",
  "kernelspec": {
   "display_name": "Python 3",
   "language": "python",
   "name": "python3"
  },
  "language_info": {
   "codemirror_mode": {
    "name": "ipython",
    "version": 3
   },
   "file_extension": ".py",
   "mimetype": "text/x-python",
   "name": "python",
   "nbconvert_exporter": "python",
   "pygments_lexer": "ipython3",
   "version": "3.5.1"
  }
 },
 "nbformat": 4,
 "nbformat_minor": 0
}
