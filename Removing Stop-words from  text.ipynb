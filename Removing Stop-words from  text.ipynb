{
 "cells": [
  {
   "cell_type": "code",
   "execution_count": 1,
   "metadata": {
    "collapsed": false
   },
   "outputs": [
    {
     "name": "stdout",
     "output_type": "stream",
     "text": [
      "['moscow', 'is', 'from', 'very', 'beautiful', 'city.', 'it', 'is', 'the', 'capital', 'of', 'the', 'russia.']\n"
     ]
    }
   ],
   "source": [
    "import sys\n",
    "import os\n",
    "exmp='Moscow is from very beautiful city. It is the capital of the Russia.'\n",
    "Token_sentence=exmp.lower().split()\n",
    "print(Token_sentence)"
   ]
  },
  {
   "cell_type": "code",
   "execution_count": 2,
   "metadata": {
    "collapsed": false
   },
   "outputs": [
    {
     "name": "stdout",
     "output_type": "stream",
     "text": [
      "{'against', 'and', 'some', 'couldn', 'above', 'mightn', 'ourselves', 'needn', 'if', 'why', 'by', 'to', 'all', 'such', 'have', 'into', 'as', 'down', 'who', 'wouldn', 'but', 'there', 's', 'any', 'when', 'other', 'ours', 'so', 'm', 'until', 'after', 'few', 'these', 'o', 'should', 'not', 'over', 'more', 'did', 'only', 'of', 'theirs', 'does', 'most', 'ain', 'you', 'own', 'nor', 'which', 'y', 'shouldn', 'in', 'between', 'or', 'a', 'had', 'we', 'weren', 'because', 'them', 'those', 'was', 'under', 'just', 'were', 'during', 'very', 'now', 'then', 'himself', 'aren', 'this', 'don', 'below', 'how', 'yours', 'through', 'each', 'no', 'up', 'what', 'having', 'yourself', 'will', 'can', 'about', 'out', 'me', 'for', 've', 'her', 'the', 'your', 'at', 'i', 'he', 'from', 'him', 'while', 'has', 'hadn', 'am', 'my', 'mustn', 'isn', 'being', 'won', 'here', 'off', 'been', 'his', 'do', 're', 'its', 'their', 'it', 'herself', 'themselves', 'd', 'hers', 'yourselves', 'whom', 'again', 't', 'shan', 'with', 'are', 'than', 'wasn', 'same', 'itself', 'is', 'both', 'she', 'doing', 'before', 'our', 'myself', 'didn', 'where', 'll', 'further', 'doesn', 'haven', 'an', 'they', 'once', 'that', 'be', 'too', 'ma', 'on', 'hasn'}\n"
     ]
    }
   ],
   "source": [
    "from nltk.corpus import stopwords\n",
    "import sys\n",
    "import os\n",
    "stop = set(stopwords.words('english'))\n",
    "print(stop)\n",
    "filter_sentence=[]"
   ]
  },
  {
   "cell_type": "code",
   "execution_count": 3,
   "metadata": {
    "collapsed": false
   },
   "outputs": [
    {
     "name": "stdout",
     "output_type": "stream",
     "text": [
      "['moscow', 'beautiful', 'city.', 'capital', 'russia.']\n"
     ]
    }
   ],
   "source": [
    "for words in Token_sentence:\n",
    "    if words not in stop:\n",
    "        filter_sentence.append(words)\n",
    "print(filter_sentence)"
   ]
  },
  {
   "cell_type": "code",
   "execution_count": null,
   "metadata": {
    "collapsed": true
   },
   "outputs": [],
   "source": []
  }
 ],
 "metadata": {
  "kernelspec": {
   "display_name": "Python [default]",
   "language": "python",
   "name": "python3"
  },
  "language_info": {
   "codemirror_mode": {
    "name": "ipython",
    "version": 3
   },
   "file_extension": ".py",
   "mimetype": "text/x-python",
   "name": "python",
   "nbconvert_exporter": "python",
   "pygments_lexer": "ipython3",
   "version": "3.5.2"
  }
 },
 "nbformat": 4,
 "nbformat_minor": 1
}
